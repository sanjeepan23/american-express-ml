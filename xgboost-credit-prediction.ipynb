{
 "cells": [
  {
   "cell_type": "code",
   "execution_count": 1,
   "id": "fc83eed1",
   "metadata": {
    "_cell_guid": "b1076dfc-b9ad-4769-8c92-a6c4dae69d19",
    "_uuid": "8f2839f25d086af736a60e9eeb907d3b93b6e0e5",
    "execution": {
     "iopub.execute_input": "2022-08-17T11:35:19.985806Z",
     "iopub.status.busy": "2022-08-17T11:35:19.985170Z",
     "iopub.status.idle": "2022-08-17T11:35:19.997480Z",
     "shell.execute_reply": "2022-08-17T11:35:19.996740Z"
    },
    "papermill": {
     "duration": 0.024469,
     "end_time": "2022-08-17T11:35:19.999606",
     "exception": false,
     "start_time": "2022-08-17T11:35:19.975137",
     "status": "completed"
    },
    "tags": []
   },
   "outputs": [],
   "source": [
    "import numpy as np\n",
    "import pandas as pd\n",
    "import matplotlib.pyplot as plt\n",
    "import datetime\n",
    "import scipy.stats\n",
    "import warnings\n",
    "\n",
    "from xgboost import XGBClassifier\n",
    "from sklearn.model_selection import StratifiedKFold"
   ]
  },
  {
   "cell_type": "code",
   "execution_count": 2,
   "id": "d1f9a8ad",
   "metadata": {
    "execution": {
     "iopub.execute_input": "2022-08-17T11:35:20.015935Z",
     "iopub.status.busy": "2022-08-17T11:35:20.015391Z",
     "iopub.status.idle": "2022-08-17T11:36:02.070335Z",
     "shell.execute_reply": "2022-08-17T11:36:02.069097Z"
    },
    "papermill": {
     "duration": 42.076603,
     "end_time": "2022-08-17T11:36:02.084291",
     "exception": false,
     "start_time": "2022-08-17T11:35:20.007688",
     "status": "completed"
    },
    "tags": []
   },
   "outputs": [
    {
     "data": {
      "text/html": [
       "<div>\n",
       "<style scoped>\n",
       "    .dataframe tbody tr th:only-of-type {\n",
       "        vertical-align: middle;\n",
       "    }\n",
       "\n",
       "    .dataframe tbody tr th {\n",
       "        vertical-align: top;\n",
       "    }\n",
       "\n",
       "    .dataframe thead th {\n",
       "        text-align: right;\n",
       "    }\n",
       "</style>\n",
       "<table border=\"1\" class=\"dataframe\">\n",
       "  <thead>\n",
       "    <tr style=\"text-align: right;\">\n",
       "      <th></th>\n",
       "      <th>customer_ID</th>\n",
       "      <th>S_2</th>\n",
       "      <th>P_2</th>\n",
       "      <th>D_39</th>\n",
       "      <th>B_1</th>\n",
       "      <th>B_2</th>\n",
       "      <th>R_1</th>\n",
       "      <th>S_3</th>\n",
       "      <th>D_41</th>\n",
       "      <th>B_3</th>\n",
       "      <th>...</th>\n",
       "      <th>D_137</th>\n",
       "      <th>D_138</th>\n",
       "      <th>D_139</th>\n",
       "      <th>D_140</th>\n",
       "      <th>D_141</th>\n",
       "      <th>D_142</th>\n",
       "      <th>D_143</th>\n",
       "      <th>D_144</th>\n",
       "      <th>D_145</th>\n",
       "      <th>target</th>\n",
       "    </tr>\n",
       "  </thead>\n",
       "  <tbody>\n",
       "    <tr>\n",
       "      <th>0</th>\n",
       "      <td>0000099d6bd597052cdcda90ffabf56573fe9d7c79be5f...</td>\n",
       "      <td>2017-03-09</td>\n",
       "      <td>0.938469</td>\n",
       "      <td>0.001733</td>\n",
       "      <td>0.008724</td>\n",
       "      <td>1.006838</td>\n",
       "      <td>0.009228</td>\n",
       "      <td>0.124035</td>\n",
       "      <td>0.008771</td>\n",
       "      <td>0.004709</td>\n",
       "      <td>...</td>\n",
       "      <td>NaN</td>\n",
       "      <td>NaN</td>\n",
       "      <td>0.002427</td>\n",
       "      <td>0.003706</td>\n",
       "      <td>0.003818</td>\n",
       "      <td>NaN</td>\n",
       "      <td>0.000569</td>\n",
       "      <td>0.000610</td>\n",
       "      <td>0.002674</td>\n",
       "      <td>0</td>\n",
       "    </tr>\n",
       "    <tr>\n",
       "      <th>1</th>\n",
       "      <td>0000099d6bd597052cdcda90ffabf56573fe9d7c79be5f...</td>\n",
       "      <td>2017-04-07</td>\n",
       "      <td>0.936665</td>\n",
       "      <td>0.005775</td>\n",
       "      <td>0.004923</td>\n",
       "      <td>1.000653</td>\n",
       "      <td>0.006151</td>\n",
       "      <td>0.126750</td>\n",
       "      <td>0.000798</td>\n",
       "      <td>0.002714</td>\n",
       "      <td>...</td>\n",
       "      <td>NaN</td>\n",
       "      <td>NaN</td>\n",
       "      <td>0.003954</td>\n",
       "      <td>0.003167</td>\n",
       "      <td>0.005032</td>\n",
       "      <td>NaN</td>\n",
       "      <td>0.009576</td>\n",
       "      <td>0.005492</td>\n",
       "      <td>0.009217</td>\n",
       "      <td>0</td>\n",
       "    </tr>\n",
       "    <tr>\n",
       "      <th>2</th>\n",
       "      <td>0000099d6bd597052cdcda90ffabf56573fe9d7c79be5f...</td>\n",
       "      <td>2017-05-28</td>\n",
       "      <td>0.954180</td>\n",
       "      <td>0.091505</td>\n",
       "      <td>0.021655</td>\n",
       "      <td>1.009672</td>\n",
       "      <td>0.006815</td>\n",
       "      <td>0.123977</td>\n",
       "      <td>0.007598</td>\n",
       "      <td>0.009423</td>\n",
       "      <td>...</td>\n",
       "      <td>NaN</td>\n",
       "      <td>NaN</td>\n",
       "      <td>0.003269</td>\n",
       "      <td>0.007329</td>\n",
       "      <td>0.000427</td>\n",
       "      <td>NaN</td>\n",
       "      <td>0.003429</td>\n",
       "      <td>0.006986</td>\n",
       "      <td>0.002603</td>\n",
       "      <td>0</td>\n",
       "    </tr>\n",
       "    <tr>\n",
       "      <th>3</th>\n",
       "      <td>0000099d6bd597052cdcda90ffabf56573fe9d7c79be5f...</td>\n",
       "      <td>2017-06-13</td>\n",
       "      <td>0.960384</td>\n",
       "      <td>0.002455</td>\n",
       "      <td>0.013683</td>\n",
       "      <td>1.002700</td>\n",
       "      <td>0.001373</td>\n",
       "      <td>0.117169</td>\n",
       "      <td>0.000685</td>\n",
       "      <td>0.005531</td>\n",
       "      <td>...</td>\n",
       "      <td>NaN</td>\n",
       "      <td>NaN</td>\n",
       "      <td>0.006117</td>\n",
       "      <td>0.004516</td>\n",
       "      <td>0.003200</td>\n",
       "      <td>NaN</td>\n",
       "      <td>0.008419</td>\n",
       "      <td>0.006527</td>\n",
       "      <td>0.009600</td>\n",
       "      <td>0</td>\n",
       "    </tr>\n",
       "    <tr>\n",
       "      <th>4</th>\n",
       "      <td>0000099d6bd597052cdcda90ffabf56573fe9d7c79be5f...</td>\n",
       "      <td>2017-07-16</td>\n",
       "      <td>0.947248</td>\n",
       "      <td>0.002483</td>\n",
       "      <td>0.015193</td>\n",
       "      <td>1.000727</td>\n",
       "      <td>0.007605</td>\n",
       "      <td>0.117325</td>\n",
       "      <td>0.004653</td>\n",
       "      <td>0.009312</td>\n",
       "      <td>...</td>\n",
       "      <td>NaN</td>\n",
       "      <td>NaN</td>\n",
       "      <td>0.003671</td>\n",
       "      <td>0.004946</td>\n",
       "      <td>0.008889</td>\n",
       "      <td>NaN</td>\n",
       "      <td>0.001670</td>\n",
       "      <td>0.008126</td>\n",
       "      <td>0.009827</td>\n",
       "      <td>0</td>\n",
       "    </tr>\n",
       "  </tbody>\n",
       "</table>\n",
       "<p>5 rows × 191 columns</p>\n",
       "</div>"
      ],
      "text/plain": [
       "                                         customer_ID         S_2       P_2  \\\n",
       "0  0000099d6bd597052cdcda90ffabf56573fe9d7c79be5f...  2017-03-09  0.938469   \n",
       "1  0000099d6bd597052cdcda90ffabf56573fe9d7c79be5f...  2017-04-07  0.936665   \n",
       "2  0000099d6bd597052cdcda90ffabf56573fe9d7c79be5f...  2017-05-28  0.954180   \n",
       "3  0000099d6bd597052cdcda90ffabf56573fe9d7c79be5f...  2017-06-13  0.960384   \n",
       "4  0000099d6bd597052cdcda90ffabf56573fe9d7c79be5f...  2017-07-16  0.947248   \n",
       "\n",
       "       D_39       B_1       B_2       R_1       S_3      D_41       B_3  ...  \\\n",
       "0  0.001733  0.008724  1.006838  0.009228  0.124035  0.008771  0.004709  ...   \n",
       "1  0.005775  0.004923  1.000653  0.006151  0.126750  0.000798  0.002714  ...   \n",
       "2  0.091505  0.021655  1.009672  0.006815  0.123977  0.007598  0.009423  ...   \n",
       "3  0.002455  0.013683  1.002700  0.001373  0.117169  0.000685  0.005531  ...   \n",
       "4  0.002483  0.015193  1.000727  0.007605  0.117325  0.004653  0.009312  ...   \n",
       "\n",
       "   D_137  D_138     D_139     D_140     D_141  D_142     D_143     D_144  \\\n",
       "0    NaN    NaN  0.002427  0.003706  0.003818    NaN  0.000569  0.000610   \n",
       "1    NaN    NaN  0.003954  0.003167  0.005032    NaN  0.009576  0.005492   \n",
       "2    NaN    NaN  0.003269  0.007329  0.000427    NaN  0.003429  0.006986   \n",
       "3    NaN    NaN  0.006117  0.004516  0.003200    NaN  0.008419  0.006527   \n",
       "4    NaN    NaN  0.003671  0.004946  0.008889    NaN  0.001670  0.008126   \n",
       "\n",
       "      D_145  target  \n",
       "0  0.002674       0  \n",
       "1  0.009217       0  \n",
       "2  0.002603       0  \n",
       "3  0.009600       0  \n",
       "4  0.009827       0  \n",
       "\n",
       "[5 rows x 191 columns]"
      ]
     },
     "execution_count": 2,
     "metadata": {},
     "output_type": "execute_result"
    }
   ],
   "source": [
    "train_data = pd.read_parquet('../input/amex-parquet/train_data.parquet')\n",
    "                         \n",
    "train_data.head()"
   ]
  },
  {
   "cell_type": "code",
   "execution_count": 3,
   "id": "737d2e6c",
   "metadata": {
    "execution": {
     "iopub.execute_input": "2022-08-17T11:36:02.104234Z",
     "iopub.status.busy": "2022-08-17T11:36:02.103809Z",
     "iopub.status.idle": "2022-08-17T11:36:02.110802Z",
     "shell.execute_reply": "2022-08-17T11:36:02.109703Z"
    },
    "papermill": {
     "duration": 0.017251,
     "end_time": "2022-08-17T11:36:02.113183",
     "exception": false,
     "start_time": "2022-08-17T11:36:02.095932",
     "status": "completed"
    },
    "tags": []
   },
   "outputs": [
    {
     "data": {
      "text/plain": [
       "(5531451, 191)"
      ]
     },
     "execution_count": 3,
     "metadata": {},
     "output_type": "execute_result"
    }
   ],
   "source": [
    "train_data.shape"
   ]
  },
  {
   "cell_type": "code",
   "execution_count": 5,
   "id": "74cd2f01",
   "metadata": {
    "execution": {
     "iopub.execute_input": "2022-08-17T11:36:03.105591Z",
     "iopub.status.busy": "2022-08-17T11:36:03.105157Z",
     "iopub.status.idle": "2022-08-17T11:36:05.885461Z",
     "shell.execute_reply": "2022-08-17T11:36:05.883773Z"
    },
    "papermill": {
     "duration": 2.791456,
     "end_time": "2022-08-17T11:36:05.888413",
     "exception": false,
     "start_time": "2022-08-17T11:36:03.096957",
     "status": "completed"
    },
    "tags": []
   },
   "outputs": [
    {
     "data": {
      "text/plain": [
       "customer_ID          0\n",
       "S_2                  0\n",
       "P_2              45985\n",
       "D_39                 0\n",
       "B_1                  0\n",
       "B_2               2016\n",
       "R_1                  0\n",
       "S_3            1020544\n",
       "D_41              2016\n",
       "B_3               2016\n",
       "D_42           4740137\n",
       "D_43           1658396\n",
       "D_44            274319\n",
       "B_4                  0\n",
       "D_45              2017\n",
       "B_5                  0\n",
       "R_2                  0\n",
       "D_46           1211699\n",
       "D_47                 0\n",
       "D_48            718725\n",
       "D_49           4985917\n",
       "B_6                233\n",
       "B_7                  0\n",
       "B_8              22268\n",
       "D_50           3142402\n",
       "D_51                 0\n",
       "B_9                  0\n",
       "R_3                  0\n",
       "D_52             29563\n",
       "P_3             301492\n",
       "B_10                 0\n",
       "D_53           4084585\n",
       "S_5                  0\n",
       "B_11                 0\n",
       "S_6                  0\n",
       "D_54              2016\n",
       "R_4                  0\n",
       "S_7            1020544\n",
       "B_12                 0\n",
       "S_8                  0\n",
       "D_55            184803\n",
       "D_56           2990943\n",
       "B_13             49519\n",
       "R_5                  0\n",
       "D_58                 0\n",
       "S_9            2933643\n",
       "B_14                 0\n",
       "D_59            106725\n",
       "D_60                 0\n",
       "D_61            598052\n",
       "B_15              6923\n",
       "S_11                 0\n",
       "D_62            758161\n",
       "D_63                 0\n",
       "D_64            217442\n",
       "D_65                 0\n",
       "B_16              2016\n",
       "B_17           3137598\n",
       "B_18                 0\n",
       "B_19              2016\n",
       "D_66           4908097\n",
       "B_20              2016\n",
       "D_68            216503\n",
       "S_12                 0\n",
       "R_6                  0\n",
       "S_13                 0\n",
       "B_21                 0\n",
       "D_69            194473\n",
       "B_22              2016\n",
       "D_70             94917\n",
       "D_71                 0\n",
       "D_72             23708\n",
       "S_15                 0\n",
       "B_23                 0\n",
       "D_73           5475595\n",
       "P_4                  0\n",
       "D_74             21773\n",
       "D_75                 0\n",
       "D_76           4908954\n",
       "B_24                 0\n",
       "R_7                  1\n",
       "D_77           2513912\n",
       "B_25              6923\n",
       "B_26              2016\n",
       "D_78            274319\n",
       "D_79             75939\n",
       "R_8                  0\n",
       "R_9            5218918\n",
       "S_16                 0\n",
       "D_80             21773\n",
       "R_10                 0\n",
       "R_11                 0\n",
       "B_27              2016\n",
       "D_81             25687\n",
       "D_82           4058614\n",
       "S_17                 0\n",
       "R_12                56\n",
       "B_28                 0\n",
       "R_13                 0\n",
       "D_83            194473\n",
       "R_14                 1\n",
       "R_15                 0\n",
       "D_84             29563\n",
       "R_16                 0\n",
       "B_29           5150035\n",
       "B_30              2016\n",
       "S_18                 0\n",
       "D_86                 0\n",
       "D_87           5527586\n",
       "R_17                 0\n",
       "R_18                 0\n",
       "D_88           5525447\n",
       "B_31                 0\n",
       "S_19                 0\n",
       "R_19                 0\n",
       "B_32                 0\n",
       "S_20                 0\n",
       "R_20                75\n",
       "R_21                 0\n",
       "B_33              2016\n",
       "D_89             29563\n",
       "R_22                 0\n",
       "R_23                 0\n",
       "D_91            157216\n",
       "D_92                 0\n",
       "D_93                 0\n",
       "D_94                 0\n",
       "R_24                 0\n",
       "R_25                 0\n",
       "D_96                 0\n",
       "S_22             19024\n",
       "S_23               445\n",
       "S_24             18593\n",
       "S_25             12847\n",
       "S_26               634\n",
       "D_102            40655\n",
       "D_103           101548\n",
       "D_104           101548\n",
       "D_105          3021431\n",
       "D_106          4990102\n",
       "D_107           101548\n",
       "B_36                 0\n",
       "B_37                56\n",
       "R_26           4922146\n",
       "R_27            128703\n",
       "B_38              2016\n",
       "D_108          5502513\n",
       "D_109             1597\n",
       "D_110          5500117\n",
       "D_111          5500117\n",
       "B_39           5497819\n",
       "D_112             2650\n",
       "B_40                53\n",
       "S_27           1400935\n",
       "D_113           176716\n",
       "D_114           176716\n",
       "D_115           176716\n",
       "D_116           176716\n",
       "D_117           176716\n",
       "D_118           176716\n",
       "D_119           176716\n",
       "D_120           176716\n",
       "D_121           176716\n",
       "D_122           176716\n",
       "D_123           176716\n",
       "D_124           176716\n",
       "D_125           176716\n",
       "D_126           116816\n",
       "D_127                0\n",
       "D_128           101548\n",
       "D_129           101548\n",
       "B_41               690\n",
       "B_42           5459973\n",
       "D_130           101548\n",
       "D_131           101548\n",
       "D_132          4988874\n",
       "D_133            42716\n",
       "R_28                 0\n",
       "D_134          5336752\n",
       "D_135          5336752\n",
       "D_136          5336752\n",
       "D_137          5336752\n",
       "D_138          5336752\n",
       "D_139           101548\n",
       "D_140            40632\n",
       "D_141           101548\n",
       "D_142          4587043\n",
       "D_143           101548\n",
       "D_144            40727\n",
       "D_145           101548\n",
       "target               0\n",
       "dtype: int64"
      ]
     },
     "execution_count": 5,
     "metadata": {},
     "output_type": "execute_result"
    }
   ],
   "source": [
    "pd.set_option('display.max_rows', 500)\n",
    "pd.set_option('display.max_columns', 500)\n",
    "pd.set_option('display.width', 1000)\n",
    "\n",
    "train_data.isnull().sum()"
   ]
  },
  {
   "cell_type": "code",
   "execution_count": 6,
   "id": "7f1021a3",
   "metadata": {
    "execution": {
     "iopub.execute_input": "2022-08-17T11:36:05.904531Z",
     "iopub.status.busy": "2022-08-17T11:36:05.904148Z",
     "iopub.status.idle": "2022-08-17T11:36:08.522691Z",
     "shell.execute_reply": "2022-08-17T11:36:08.521402Z"
    },
    "papermill": {
     "duration": 2.62923,
     "end_time": "2022-08-17T11:36:08.524940",
     "exception": false,
     "start_time": "2022-08-17T11:36:05.895710",
     "status": "completed"
    },
    "tags": []
   },
   "outputs": [
    {
     "data": {
      "text/plain": [
       "(458913, 189)"
      ]
     },
     "execution_count": 6,
     "metadata": {},
     "output_type": "execute_result"
    }
   ],
   "source": [
    "train=train_data.groupby('customer_ID').tail(1)\n",
    "train=train.set_index(['customer_ID'])\n",
    "\n",
    "train.drop(['S_2'],axis=1,inplace=True)\n",
    "train.shape"
   ]
  },
  {
   "cell_type": "code",
   "execution_count": 7,
   "id": "4fb019e3",
   "metadata": {
    "execution": {
     "iopub.execute_input": "2022-08-17T11:36:08.540990Z",
     "iopub.status.busy": "2022-08-17T11:36:08.540595Z",
     "iopub.status.idle": "2022-08-17T11:36:08.562309Z",
     "shell.execute_reply": "2022-08-17T11:36:08.561219Z"
    },
    "papermill": {
     "duration": 0.03255,
     "end_time": "2022-08-17T11:36:08.564629",
     "exception": false,
     "start_time": "2022-08-17T11:36:08.532079",
     "status": "completed"
    },
    "tags": []
   },
   "outputs": [
    {
     "data": {
      "text/html": [
       "<div>\n",
       "<style scoped>\n",
       "    .dataframe tbody tr th:only-of-type {\n",
       "        vertical-align: middle;\n",
       "    }\n",
       "\n",
       "    .dataframe tbody tr th {\n",
       "        vertical-align: top;\n",
       "    }\n",
       "\n",
       "    .dataframe thead th {\n",
       "        text-align: right;\n",
       "    }\n",
       "</style>\n",
       "<table border=\"1\" class=\"dataframe\">\n",
       "  <thead>\n",
       "    <tr style=\"text-align: right;\">\n",
       "      <th></th>\n",
       "      <th>D_63</th>\n",
       "      <th>D_64</th>\n",
       "    </tr>\n",
       "    <tr>\n",
       "      <th>customer_ID</th>\n",
       "      <th></th>\n",
       "      <th></th>\n",
       "    </tr>\n",
       "  </thead>\n",
       "  <tbody>\n",
       "    <tr>\n",
       "      <th>0000099d6bd597052cdcda90ffabf56573fe9d7c79be5fbac11a8ed792feb62a</th>\n",
       "      <td>CR</td>\n",
       "      <td>O</td>\n",
       "    </tr>\n",
       "    <tr>\n",
       "      <th>00000fd6641609c6ece5454664794f0340ad84dddce9a267a310b5ae68e9d8e5</th>\n",
       "      <td>CO</td>\n",
       "      <td>O</td>\n",
       "    </tr>\n",
       "    <tr>\n",
       "      <th>00001b22f846c82c51f6e3958ccd81970162bae8b007e80662ef27519fcc18c1</th>\n",
       "      <td>CO</td>\n",
       "      <td>R</td>\n",
       "    </tr>\n",
       "    <tr>\n",
       "      <th>000041bdba6ecadd89a52d11886e8eaaec9325906c9723355abb5ca523658edc</th>\n",
       "      <td>CO</td>\n",
       "      <td>O</td>\n",
       "    </tr>\n",
       "    <tr>\n",
       "      <th>00007889e4fcd2614b6cbe7f8f3d2e5c728eca32d9eb8ad51ca8b8c4a24cefed</th>\n",
       "      <td>CO</td>\n",
       "      <td>O</td>\n",
       "    </tr>\n",
       "    <tr>\n",
       "      <th>...</th>\n",
       "      <td>...</td>\n",
       "      <td>...</td>\n",
       "    </tr>\n",
       "    <tr>\n",
       "      <th>ffff41c8a52833b56430603969b9ca48d208e7c192c6a4081a6acc28cf4f8af7</th>\n",
       "      <td>CO</td>\n",
       "      <td>U</td>\n",
       "    </tr>\n",
       "    <tr>\n",
       "      <th>ffff518bb2075e4816ee3fe9f3b152c57fc0e6f01bf7fdd3e5b57cfcbee30286</th>\n",
       "      <td>CO</td>\n",
       "      <td>R</td>\n",
       "    </tr>\n",
       "    <tr>\n",
       "      <th>ffff9984b999fccb2b6127635ed0736dda94e544e67e026eee4d20f680639ff6</th>\n",
       "      <td>CO</td>\n",
       "      <td>U</td>\n",
       "    </tr>\n",
       "    <tr>\n",
       "      <th>ffffa5c46bc8de74f5a4554e74e239c8dee6b9baf388145b2c3d01967fcce461</th>\n",
       "      <td>CO</td>\n",
       "      <td>U</td>\n",
       "    </tr>\n",
       "    <tr>\n",
       "      <th>fffff1d38b785cef84adeace64f8f83db3a0c31e8d92eaba8b115f71cab04681</th>\n",
       "      <td>CL</td>\n",
       "      <td>O</td>\n",
       "    </tr>\n",
       "  </tbody>\n",
       "</table>\n",
       "<p>458913 rows × 2 columns</p>\n",
       "</div>"
      ],
      "text/plain": [
       "                                                   D_63 D_64\n",
       "customer_ID                                                 \n",
       "0000099d6bd597052cdcda90ffabf56573fe9d7c79be5fb...   CR    O\n",
       "00000fd6641609c6ece5454664794f0340ad84dddce9a26...   CO    O\n",
       "00001b22f846c82c51f6e3958ccd81970162bae8b007e80...   CO    R\n",
       "000041bdba6ecadd89a52d11886e8eaaec9325906c97233...   CO    O\n",
       "00007889e4fcd2614b6cbe7f8f3d2e5c728eca32d9eb8ad...   CO    O\n",
       "...                                                 ...  ...\n",
       "ffff41c8a52833b56430603969b9ca48d208e7c192c6a40...   CO    U\n",
       "ffff518bb2075e4816ee3fe9f3b152c57fc0e6f01bf7fdd...   CO    R\n",
       "ffff9984b999fccb2b6127635ed0736dda94e544e67e026...   CO    U\n",
       "ffffa5c46bc8de74f5a4554e74e239c8dee6b9baf388145...   CO    U\n",
       "fffff1d38b785cef84adeace64f8f83db3a0c31e8d92eab...   CL    O\n",
       "\n",
       "[458913 rows x 2 columns]"
      ]
     },
     "execution_count": 7,
     "metadata": {},
     "output_type": "execute_result"
    }
   ],
   "source": [
    "train.select_dtypes(['object'])"
   ]
  },
  {
   "cell_type": "code",
   "execution_count": 8,
   "id": "b0c3ca46",
   "metadata": {
    "execution": {
     "iopub.execute_input": "2022-08-17T11:36:08.580942Z",
     "iopub.status.busy": "2022-08-17T11:36:08.580579Z",
     "iopub.status.idle": "2022-08-17T11:36:09.928506Z",
     "shell.execute_reply": "2022-08-17T11:36:09.927564Z"
    },
    "papermill": {
     "duration": 1.359037,
     "end_time": "2022-08-17T11:36:09.931098",
     "exception": false,
     "start_time": "2022-08-17T11:36:08.572061",
     "status": "completed"
    },
    "tags": []
   },
   "outputs": [],
   "source": [
    "#Perform one-hot encoding for D_63 and D_64\n",
    "train_D63 = pd.get_dummies(train[['D_63']])\n",
    "train = pd.concat([train, train_D63], axis=1)\n",
    "train = train.drop(['D_63'], axis=1)\n",
    "\n",
    "train_D64 = pd.get_dummies(train[['D_64']])\n",
    "train = pd.concat([train, train_D64], axis=1)\n",
    "train = train.drop(['D_64'], axis=1)"
   ]
  },
  {
   "cell_type": "code",
   "execution_count": 9,
   "id": "f4b11788",
   "metadata": {
    "execution": {
     "iopub.execute_input": "2022-08-17T11:36:09.949812Z",
     "iopub.status.busy": "2022-08-17T11:36:09.949457Z",
     "iopub.status.idle": "2022-08-17T11:36:09.956007Z",
     "shell.execute_reply": "2022-08-17T11:36:09.954976Z"
    },
    "papermill": {
     "duration": 0.019439,
     "end_time": "2022-08-17T11:36:09.958035",
     "exception": false,
     "start_time": "2022-08-17T11:36:09.938596",
     "status": "completed"
    },
    "tags": []
   },
   "outputs": [
    {
     "data": {
      "text/plain": [
       "Index(['P_2', 'D_39', 'B_1', 'B_2', 'R_1', 'S_3', 'D_41', 'B_3', 'D_42', 'D_43',\n",
       "       ...\n",
       "       'target', 'D_63_CL', 'D_63_CO', 'D_63_CR', 'D_63_XL', 'D_63_XM', 'D_63_XZ', 'D_64_O', 'D_64_R', 'D_64_U'], dtype='object', length=196)"
      ]
     },
     "execution_count": 9,
     "metadata": {},
     "output_type": "execute_result"
    }
   ],
   "source": [
    "train.columns"
   ]
  },
  {
   "cell_type": "code",
   "execution_count": 10,
   "id": "1ea8a317",
   "metadata": {
    "execution": {
     "iopub.execute_input": "2022-08-17T11:36:09.974584Z",
     "iopub.status.busy": "2022-08-17T11:36:09.973934Z",
     "iopub.status.idle": "2022-08-17T11:36:10.259902Z",
     "shell.execute_reply": "2022-08-17T11:36:10.258858Z"
    },
    "papermill": {
     "duration": 0.296936,
     "end_time": "2022-08-17T11:36:10.262452",
     "exception": false,
     "start_time": "2022-08-17T11:36:09.965516",
     "status": "completed"
    },
    "tags": []
   },
   "outputs": [
    {
     "data": {
      "text/plain": [
       "(458913, 160)"
      ]
     },
     "execution_count": 10,
     "metadata": {},
     "output_type": "execute_result"
    }
   ],
   "source": [
    "train=train.dropna(axis=1, thresh=int(0.85*len(train)))\n",
    "\n",
    "train.shape"
   ]
  },
  {
   "cell_type": "code",
   "execution_count": 11,
   "id": "8f409329",
   "metadata": {
    "execution": {
     "iopub.execute_input": "2022-08-17T11:36:10.279534Z",
     "iopub.status.busy": "2022-08-17T11:36:10.278782Z",
     "iopub.status.idle": "2022-08-17T11:36:41.833583Z",
     "shell.execute_reply": "2022-08-17T11:36:41.832555Z"
    },
    "papermill": {
     "duration": 31.572645,
     "end_time": "2022-08-17T11:36:41.842701",
     "exception": false,
     "start_time": "2022-08-17T11:36:10.270056",
     "status": "completed"
    },
    "tags": []
   },
   "outputs": [
    {
     "data": {
      "text/plain": [
       "(458913, 131)"
      ]
     },
     "execution_count": 11,
     "metadata": {},
     "output_type": "execute_result"
    }
   ],
   "source": [
    "train_without_target=train.drop(['target'],axis=1)\n",
    "cor_matrix = train_without_target.corr().abs()\n",
    "upper_tri = cor_matrix.where((np.triu(np.ones(cor_matrix.shape), k=1) + np.tril(np.ones(cor_matrix.shape), k=-1)).astype(bool))\n",
    "to_drop = [column for column in upper_tri.columns if any(upper_tri[column] > 0.85)]\n",
    "train_drop_highcorr=train_without_target.drop(to_drop,axis=1)\n",
    "train_drop_highcorr.shape"
   ]
  },
  {
   "cell_type": "code",
   "execution_count": 12,
   "id": "3e408f6e",
   "metadata": {
    "execution": {
     "iopub.execute_input": "2022-08-17T11:36:41.859012Z",
     "iopub.status.busy": "2022-08-17T11:36:41.858637Z",
     "iopub.status.idle": "2022-08-17T11:36:44.114443Z",
     "shell.execute_reply": "2022-08-17T11:36:44.113347Z"
    },
    "papermill": {
     "duration": 2.266776,
     "end_time": "2022-08-17T11:36:44.116834",
     "exception": false,
     "start_time": "2022-08-17T11:36:41.850058",
     "status": "completed"
    },
    "tags": []
   },
   "outputs": [
    {
     "data": {
      "text/plain": [
       "85"
      ]
     },
     "execution_count": 12,
     "metadata": {},
     "output_type": "execute_result"
    }
   ],
   "source": [
    "from sklearn.feature_selection import VarianceThreshold\n",
    "from itertools import compress\n",
    "def fs_variance(df, threshold:float=0.05):\n",
    "    features = list(df.columns)\n",
    "    \n",
    "    vt = VarianceThreshold(threshold = threshold)\n",
    "    _ = vt.fit(df)\n",
    "    \n",
    "    feat_select = list(compress(features, vt.get_support()))\n",
    "    \n",
    "    return feat_select\n",
    "columns_to_keep=fs_variance(train_drop_highcorr)\n",
    "train_final=train[columns_to_keep]\n",
    "len(columns_to_keep)"
   ]
  },
  {
   "cell_type": "code",
   "execution_count": 13,
   "id": "18cddad0",
   "metadata": {
    "execution": {
     "iopub.execute_input": "2022-08-17T11:36:44.134093Z",
     "iopub.status.busy": "2022-08-17T11:36:44.133716Z",
     "iopub.status.idle": "2022-08-17T11:36:44.368423Z",
     "shell.execute_reply": "2022-08-17T11:36:44.367174Z"
    },
    "papermill": {
     "duration": 0.246533,
     "end_time": "2022-08-17T11:36:44.371265",
     "exception": false,
     "start_time": "2022-08-17T11:36:44.124732",
     "status": "completed"
    },
    "tags": []
   },
   "outputs": [],
   "source": [
    "train_final1=train_final.join(train['target'])\n",
    "x_train=train_final1.drop(['target'],axis=1)\n",
    "y_train=train_final1['target']"
   ]
  },
  {
   "attachments": {},
   "cell_type": "markdown",
   "id": "26445ec6",
   "metadata": {},
   "source": [
    "### Part2"
   ]
  },
  {
   "cell_type": "code",
   "execution_count": 14,
   "id": "840e7a79",
   "metadata": {
    "execution": {
     "iopub.execute_input": "2022-08-17T11:36:44.388855Z",
     "iopub.status.busy": "2022-08-17T11:36:44.387894Z",
     "iopub.status.idle": "2022-08-17T11:36:44.747060Z",
     "shell.execute_reply": "2022-08-17T11:36:44.745835Z"
    },
    "papermill": {
     "duration": 0.370798,
     "end_time": "2022-08-17T11:36:44.749925",
     "exception": false,
     "start_time": "2022-08-17T11:36:44.379127",
     "status": "completed"
    },
    "tags": []
   },
   "outputs": [],
   "source": [
    "# Split train data into training and testing sets\n",
    "from sklearn.model_selection import train_test_split\n",
    "from sklearn.metrics import accuracy_score  \n",
    "from sklearn.metrics import precision_score                         \n",
    "from sklearn.metrics import recall_score\n",
    "x_train_split, x_test_split, y_train_split, y_test_split = train_test_split(x_train, y_train, test_size=0.25, random_state=26)"
   ]
  },
  {
   "cell_type": "code",
   "execution_count": 15,
   "id": "eb040c20",
   "metadata": {
    "execution": {
     "iopub.execute_input": "2022-08-17T11:36:44.767916Z",
     "iopub.status.busy": "2022-08-17T11:36:44.767257Z",
     "iopub.status.idle": "2022-08-17T11:36:44.878798Z",
     "shell.execute_reply": "2022-08-17T11:36:44.877693Z"
    },
    "papermill": {
     "duration": 0.123499,
     "end_time": "2022-08-17T11:36:44.881354",
     "exception": false,
     "start_time": "2022-08-17T11:36:44.757855",
     "status": "completed"
    },
    "tags": []
   },
   "outputs": [],
   "source": [
    "# Comment out this section as it takes a very long time to run, the results of randomizedsearchCV is included below\n",
    "# Grid of hyperparameters to search over\n",
    "#from sklearn.model_selection import RandomizedSearchCV\n",
    "#param_random_gb = {'learning_rate': np.arange(0.05,0.55, 0.1),\n",
    "#                   'n_estimators' : [125,150,175],\n",
    "#                   'subsample' : np.arange(0.3,1.0, 0.1),\n",
    "#                   'max_depth':[3,4,5]}\n",
    "\n",
    "# Use XGBoost Classifier\n",
    "from xgboost import XGBClassifier\n",
    "\n",
    "# Perform RandomizedSearchCV\n",
    "#mse_random = RandomizedSearchCV(estimator = XGBClassifier(), param_distributions = param_random_gb, \n",
    "#                               n_iter = 10,scoring = 'neg_mean_squared_error', cv = 4, verbose = 1)\n",
    "\n",
    "#mse_random.fit(x_train_split,y_train_split)\n",
    "\n",
    "#print(\"Best parameter: \", mse_random.best_params_)\n",
    "#print(\"Lowest RMSE: \", np.sqrt(np.abs(mse_random.best_score_)))\n",
    "#Best parameter:  {'subsample': 0.5, 'n_estimators': 175, 'max_depth': 3, 'learning_rate': 0.15}\n",
    "#Lowest RMSE:  0.32263831733224874"
   ]
  },
  {
   "cell_type": "code",
   "execution_count": 16,
   "id": "559a4a9e",
   "metadata": {
    "execution": {
     "iopub.execute_input": "2022-08-17T11:36:44.898985Z",
     "iopub.status.busy": "2022-08-17T11:36:44.898397Z",
     "iopub.status.idle": "2022-08-17T11:41:36.691292Z",
     "shell.execute_reply": "2022-08-17T11:41:36.689403Z"
    },
    "papermill": {
     "duration": 291.813774,
     "end_time": "2022-08-17T11:41:36.703252",
     "exception": false,
     "start_time": "2022-08-17T11:36:44.889478",
     "status": "completed"
    },
    "tags": []
   },
   "outputs": [
    {
     "name": "stdout",
     "output_type": "stream",
     "text": [
      "XGBoost Classifier Accuracy: 0.895\n"
     ]
    }
   ],
   "source": [
    "#Run XGBoost model with the best parameters found\n",
    "model=XGBClassifier(n_estimators=200,max_depth=3,learning_rate=0.15, subsample=0.5)\n",
    "model.fit(x_train_split,y_train_split)\n",
    "#Test the model\n",
    "y_predict=model.predict(x_test_split)\n",
    "print('XGBoost Classifier Accuracy: {:.3f}'.format(accuracy_score(y_test_split, y_predict)))\n",
    "# Achieved 89.5% accuracy"
   ]
  },
  {
   "cell_type": "code",
   "execution_count": 17,
   "id": "58d016bc",
   "metadata": {
    "execution": {
     "iopub.execute_input": "2022-08-17T11:41:36.721297Z",
     "iopub.status.busy": "2022-08-17T11:41:36.720901Z",
     "iopub.status.idle": "2022-08-17T11:41:36.778901Z",
     "shell.execute_reply": "2022-08-17T11:41:36.777100Z"
    },
    "papermill": {
     "duration": 0.069998,
     "end_time": "2022-08-17T11:41:36.781363",
     "exception": false,
     "start_time": "2022-08-17T11:41:36.711365",
     "status": "completed"
    },
    "tags": []
   },
   "outputs": [
    {
     "name": "stdout",
     "output_type": "stream",
     "text": [
      "\n",
      "XGBoost Classifier Precision: 0.799\n"
     ]
    }
   ],
   "source": [
    "print('\\nXGBoost Classifier Precision: {:.3f}'.format(precision_score (y_test_split, y_predict)))\n",
    "# Achieved Precision Score of 0.799"
   ]
  },
  {
   "cell_type": "code",
   "execution_count": 18,
   "id": "bbb64d17",
   "metadata": {
    "execution": {
     "iopub.execute_input": "2022-08-17T11:41:36.798983Z",
     "iopub.status.busy": "2022-08-17T11:41:36.798609Z",
     "iopub.status.idle": "2022-08-17T11:41:36.855066Z",
     "shell.execute_reply": "2022-08-17T11:41:36.853655Z"
    },
    "papermill": {
     "duration": 0.068095,
     "end_time": "2022-08-17T11:41:36.857471",
     "exception": false,
     "start_time": "2022-08-17T11:41:36.789376",
     "status": "completed"
    },
    "tags": []
   },
   "outputs": [
    {
     "name": "stdout",
     "output_type": "stream",
     "text": [
      "\n",
      "XGBoost Classifier Recall: 0.791\n"
     ]
    }
   ],
   "source": [
    "print('\\nXGBoost Classifier Recall: {:.3f}'.format(recall_score (y_test_split, y_predict)))\n",
    "#Achieved Recall Score of 0.791"
   ]
  },
  {
   "cell_type": "code",
   "execution_count": 19,
   "id": "36ec4160",
   "metadata": {
    "execution": {
     "iopub.execute_input": "2022-08-17T11:41:36.875145Z",
     "iopub.status.busy": "2022-08-17T11:41:36.874779Z",
     "iopub.status.idle": "2022-08-17T11:41:36.880923Z",
     "shell.execute_reply": "2022-08-17T11:41:36.879878Z"
    },
    "papermill": {
     "duration": 0.017475,
     "end_time": "2022-08-17T11:41:36.883013",
     "exception": false,
     "start_time": "2022-08-17T11:41:36.865538",
     "status": "completed"
    },
    "tags": []
   },
   "outputs": [],
   "source": [
    "# Make a list of columns that we want to load for test data. Remove one-hot encoded names and target (since these columns not in the test data)\n",
    "columns_to_load=list(columns_to_keep)\n",
    "columns_to_load=columns_to_load+['D_63','D_64','customer_ID','S_2']\n",
    "columns_to_load.remove('D_63_CO')\n",
    "columns_to_load.remove('D_63_CR')\n",
    "columns_to_load.remove('D_63_CL')\n",
    "columns_to_load.remove('D_64_O')\n",
    "columns_to_load.remove('D_64_R')\n",
    "columns_to_load.remove('D_64_U')"
   ]
  },
  {
   "cell_type": "code",
   "execution_count": 20,
   "id": "4662966d",
   "metadata": {
    "execution": {
     "iopub.execute_input": "2022-08-17T11:41:36.901041Z",
     "iopub.status.busy": "2022-08-17T11:41:36.900662Z",
     "iopub.status.idle": "2022-08-17T11:42:14.331698Z",
     "shell.execute_reply": "2022-08-17T11:42:14.330829Z"
    },
    "papermill": {
     "duration": 37.443237,
     "end_time": "2022-08-17T11:42:14.334357",
     "exception": false,
     "start_time": "2022-08-17T11:41:36.891120",
     "status": "completed"
    },
    "tags": []
   },
   "outputs": [],
   "source": [
    "#Read in the test_data\n",
    "test_data = pd.read_parquet('../input/amex-parquet/test_data.parquet',columns=columns_to_load)"
   ]
  },
  {
   "cell_type": "code",
   "execution_count": 21,
   "id": "b2b1ea7c",
   "metadata": {
    "execution": {
     "iopub.execute_input": "2022-08-17T11:42:14.352932Z",
     "iopub.status.busy": "2022-08-17T11:42:14.352052Z",
     "iopub.status.idle": "2022-08-17T11:42:16.370344Z",
     "shell.execute_reply": "2022-08-17T11:42:16.369439Z"
    },
    "papermill": {
     "duration": 2.030054,
     "end_time": "2022-08-17T11:42:16.373012",
     "exception": false,
     "start_time": "2022-08-17T11:42:14.342958",
     "status": "completed"
    },
    "tags": []
   },
   "outputs": [],
   "source": [
    "# There are multiple transactions. Lets take only the latest transaction from each customer.\n",
    "test=test_data.groupby('customer_ID').tail(1)\n",
    "test=test.set_index(['customer_ID'])\n",
    "\n",
    "#Drop date column since it is no longer relevant\n",
    "test.drop(['S_2'],axis=1,inplace=True)"
   ]
  },
  {
   "cell_type": "code",
   "execution_count": 22,
   "id": "c9ba1690",
   "metadata": {
    "execution": {
     "iopub.execute_input": "2022-08-17T11:42:16.390535Z",
     "iopub.status.busy": "2022-08-17T11:42:16.390150Z",
     "iopub.status.idle": "2022-08-17T11:42:17.371159Z",
     "shell.execute_reply": "2022-08-17T11:42:17.369564Z"
    },
    "papermill": {
     "duration": 0.992774,
     "end_time": "2022-08-17T11:42:17.373858",
     "exception": false,
     "start_time": "2022-08-17T11:42:16.381084",
     "status": "completed"
    },
    "tags": []
   },
   "outputs": [],
   "source": [
    "#Perform one-hot encoding for D_63 and D_64\n",
    "#Drop columns D_63 and D_64 subsequently\n",
    "test_D63 = pd.get_dummies(test[['D_63']])\n",
    "test = pd.concat([test, test_D63], axis=1)\n",
    "test = test.drop(['D_63'], axis=1)\n",
    "\n",
    "test_D64 = pd.get_dummies(test[['D_64']])\n",
    "test = pd.concat([test, test_D64], axis=1)\n",
    "test = test.drop(['D_64'], axis=1)"
   ]
  },
  {
   "cell_type": "code",
   "execution_count": 23,
   "id": "b9faa926",
   "metadata": {
    "execution": {
     "iopub.execute_input": "2022-08-17T11:42:17.391769Z",
     "iopub.status.busy": "2022-08-17T11:42:17.391189Z",
     "iopub.status.idle": "2022-08-17T11:42:17.487860Z",
     "shell.execute_reply": "2022-08-17T11:42:17.486912Z"
    },
    "papermill": {
     "duration": 0.108258,
     "end_time": "2022-08-17T11:42:17.490395",
     "exception": false,
     "start_time": "2022-08-17T11:42:17.382137",
     "status": "completed"
    },
    "tags": []
   },
   "outputs": [],
   "source": [
    "#Keep columns that we want.\n",
    "test_final=test[columns_to_keep]"
   ]
  },
  {
   "cell_type": "code",
   "execution_count": 24,
   "id": "fd11e8e5",
   "metadata": {
    "execution": {
     "iopub.execute_input": "2022-08-17T11:42:17.508867Z",
     "iopub.status.busy": "2022-08-17T11:42:17.508494Z",
     "iopub.status.idle": "2022-08-17T11:42:19.164992Z",
     "shell.execute_reply": "2022-08-17T11:42:19.164001Z"
    },
    "papermill": {
     "duration": 1.669182,
     "end_time": "2022-08-17T11:42:19.168190",
     "exception": false,
     "start_time": "2022-08-17T11:42:17.499008",
     "status": "completed"
    },
    "tags": []
   },
   "outputs": [],
   "source": [
    "#Predict probabilities of default\n",
    "y_test_predict=model.predict_proba(test_final)"
   ]
  },
  {
   "cell_type": "code",
   "execution_count": 25,
   "id": "49b9b5b6",
   "metadata": {
    "execution": {
     "iopub.execute_input": "2022-08-17T11:42:19.187623Z",
     "iopub.status.busy": "2022-08-17T11:42:19.187233Z",
     "iopub.status.idle": "2022-08-17T11:42:22.289815Z",
     "shell.execute_reply": "2022-08-17T11:42:22.288581Z"
    },
    "papermill": {
     "duration": 3.114884,
     "end_time": "2022-08-17T11:42:22.292802",
     "exception": false,
     "start_time": "2022-08-17T11:42:19.177918",
     "status": "completed"
    },
    "tags": []
   },
   "outputs": [],
   "source": [
    "#Retrieve the probability of default\n",
    "y_predict_final=y_test_predict[:,1]\n",
    "\n",
    "# Merge the prediction and customer_ID into submission dataframe\n",
    "submission = pd.DataFrame({\"customer_ID\":test_final.index,\"prediction\":y_predict_final})\n",
    "\n",
    "submission.to_csv('submission.csv', index=False)"
   ]
  },
  {
   "attachments": {},
   "cell_type": "markdown",
   "id": "ea5a097e",
   "metadata": {},
   "source": [
    "### Other"
   ]
  },
  {
   "cell_type": "code",
   "execution_count": null,
   "id": "6b08e7c8",
   "metadata": {},
   "outputs": [],
   "source": [
    "# Cross-validation of the classifier\n",
    "\n",
    "ONLY_FIRST_FOLD = False\n",
    "\n",
    "features = [f for f in train.columns if f != 'customer_ID' and f != 'target']\n",
    "\n",
    "def my_booster(random_state=1823, n_estimators=1500):\n",
    "    return XGBClassifier(n_estimators=n_estimators,\n",
    "                          learning_rate=0.03, reg_lambda=50,\n",
    "                          min_child_samples=2400,\n",
    "                          num_leaves=95,\n",
    "                          colsample_bytree=0.19,\n",
    "                          max_bins=511, random_state=random_state)\n",
    "      \n",
    "score_list = []\n",
    "y_pred_list = []\n",
    "kf = StratifiedKFold(n_splits=2)\n",
    "for fold, (idx_tr, idx_va) in enumerate(kf.split(train, target)):\n",
    "    X_tr, X_va, y_tr, y_va, model = None, None, None, None, None\n",
    "    start_time = datetime.datetime.now()\n",
    "    X_tr = train.iloc[idx_tr][features]\n",
    "    X_va = train.iloc[idx_va][features]\n",
    "    y_tr = target[idx_tr]\n",
    "    y_va = target[idx_va]\n",
    "    \n",
    "    model = my_booster()\n",
    "    with warnings.catch_warnings():\n",
    "        warnings.filterwarnings('ignore', category=UserWarning)\n",
    "        model.fit(X_tr, y_tr,\n",
    "                  eval_set = [(X_va, y_va)], \n",
    "                  eval_metric=[lgb_amex_metric],\n",
    "                  callbacks=[log_evaluation(100)])\n",
    "    X_tr, y_tr = None, None\n",
    "    y_va_pred = model.predict_proba(X_va, raw_score=True)\n",
    "    score = amex_metric(y_va, y_va_pred)\n",
    "    n_trees = model.best_iteration_\n",
    "    if n_trees is None: n_trees = model.n_estimators\n",
    "    print(f\"{Fore.GREEN}{Style.BRIGHT}Fold {fold} | {str(datetime.datetime.now() - start_time)[-12:-7]} |\"\n",
    "          f\" {n_trees:5} trees |\"\n",
    "          f\"                Score = {score:.5f}{Style.RESET_ALL}\")\n",
    "    score_list.append(score)\n",
    "    \n",
    "    if INFERENCE:\n",
    "        y_pred_list.append(model.predict_proba(test[features], raw_score=True))\n",
    "        \n",
    "    \n",
    "print(f\"{Fore.GREEN}{Style.BRIGHT}OOF Score:                       {np.mean(score_list):.5f}{Style.RESET_ALL}\")"
   ]
  }
 ],
 "metadata": {
  "kernelspec": {
   "display_name": "Python 3",
   "language": "python",
   "name": "python3"
  },
  "language_info": {
   "codemirror_mode": {
    "name": "ipython",
    "version": 3
   },
   "file_extension": ".py",
   "mimetype": "text/x-python",
   "name": "python",
   "nbconvert_exporter": "python",
   "pygments_lexer": "ipython3",
   "version": "3.9.6 (default, Sep 26 2022, 11:37:49) \n[Clang 14.0.0 (clang-1400.0.29.202)]"
  },
  "papermill": {
   "default_parameters": {},
   "duration": 432.744268,
   "end_time": "2022-08-17T11:42:23.927000",
   "environment_variables": {},
   "exception": null,
   "input_path": "__notebook__.ipynb",
   "output_path": "__notebook__.ipynb",
   "parameters": {},
   "start_time": "2022-08-17T11:35:11.182732",
   "version": "2.3.4"
  },
  "vscode": {
   "interpreter": {
    "hash": "31f2aee4e71d21fbe5cf8b01ff0e069b9275f58929596ceb00d14d90e3e16cd6"
   }
  }
 },
 "nbformat": 4,
 "nbformat_minor": 5
}
